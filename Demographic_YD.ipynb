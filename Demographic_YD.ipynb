{
 "cells": [
  {
   "cell_type": "markdown",
   "id": "d3db3789",
   "metadata": {},
   "source": [
    "## Reading Data"
   ]
  },
  {
   "cell_type": "code",
   "execution_count": 1,
   "id": "84a3e487",
   "metadata": {},
   "outputs": [],
   "source": [
    "# Libraries\n",
    "import numpy as np\n",
    "import pandas as pd\n",
    "import matplotlib.pyplot as plt\n",
    "import seaborn as sns"
   ]
  },
  {
   "cell_type": "code",
   "execution_count": 2,
   "id": "3306bc16",
   "metadata": {},
   "outputs": [],
   "source": [
    "df = pd.read_csv('../data/Cr_24-03-23.csv', sep = ';', decimal = ',')\n",
    "\n",
    "df.fillna(np.nan, inplace = True)"
   ]
  },
  {
   "cell_type": "markdown",
   "id": "598a1edf",
   "metadata": {},
   "source": [
    "## Clear the DataFrame"
   ]
  },
  {
   "cell_type": "code",
   "execution_count": 3,
   "id": "c641249e",
   "metadata": {},
   "outputs": [
    {
     "data": {
      "text/plain": [
       "(135, 99)"
      ]
     },
     "execution_count": 3,
     "metadata": {},
     "output_type": "execute_result"
    }
   ],
   "source": [
    "# Remove rows that belong to people who did not complete the survey\n",
    "df = df[df[\"Completed\"] == \"yes\"]\n",
    "\n",
    "\n",
    "df.shape # We have 135 rows and 99 columns"
   ]
  },
  {
   "cell_type": "code",
   "execution_count": 4,
   "id": "8dee6c70",
   "metadata": {
    "scrolled": false
   },
   "outputs": [
    {
     "data": {
      "text/plain": [
       "Index(['Campaign code', 'Campaign name', 'Campaign ref', 'Code', 'Completed',\n",
       "       'Started at', 'Last change', 'Duration', 'BrowserLang', 'IP addr',\n",
       "       'Country', 'Referer', 'UserAgent', '1: Online footprint',\n",
       "       '1.1.1a: Have you ever had any personal information online (that you put there or someone else did)?',\n",
       "       '1.1.1b: Please click on all that apply',\n",
       "       '1.1.2a: Do you think these pieces of information should have the same levels of protection against unauthorised use?',\n",
       "       '1.1.2b: Holiday photos', '1.1.2c: Bank information',\n",
       "       '1.1.2d: Medical information', '1.1.2e: DNA information',\n",
       "       '1.1.3a: Have you had any negative experiences from your personal information being accessed online?',\n",
       "       '1.1.3b: Have you had any negative experiences from your personal information being accessed online? (Text)',\n",
       "       '1.1.4a: Are you familiar with DNA, genetics or genomics?',\n",
       "       '1.1.4b: I'm familiar through my work, personal interests or family/medical history (details)',\n",
       "       '1.1.4c: I'm familiar through my work, personal interests or family/medical history (details) (Other)',\n",
       "       '2: Data access by others',\n",
       "       '2.2.1a: Do you know who has online access to your medical information?',\n",
       "       '2.2.2a: Are you worried about who might have access to your medical information',\n",
       "       '2.2.3a: Do you know who has online access to your DNA information',\n",
       "       '2.2.4a: Are you worried about who might have access to your DNA information',\n",
       "       '2.2.5a: Is DNA information different to medical information What do you think?',\n",
       "       '2.2.5b: Is DNA information different to medical information What do you think? (Text)',\n",
       "       '2.2.6a: Would being offered a DNA readout influence your decision to donate',\n",
       "       '3: Access by medical doctors',\n",
       "       '3.3.1a: Would you donate your DNA and medical information for use by medical doctors?',\n",
       "       '3.3.1b: Would you donate your DNA and medical information for use by medical doctors? (Text)',\n",
       "       '4: Access by non-profit researchers',\n",
       "       '4.4.1a: Would you donate your DNA and medical information for use by non-profit researchers?',\n",
       "       '4.4.1b: Would you donate your DNA and medical information for use by non-profit researchers? (Text)',\n",
       "       '5: Access by for-profit researchers',\n",
       "       '5.5.1a: Would you donate your DNA and medical information for use by for-profit researchers?',\n",
       "       '5.5.1b: Would you donate your DNA and medical information for use by for-profit researchers? (Text)',\n",
       "       '6: Perceived harms',\n",
       "       '6.6.1a: Would you donate your DNA/medical information?',\n",
       "       '6.6.1b: Would you donate your DNA/medical information to doctor?',\n",
       "       '6.6.1c: Would you donate your DNA/medical information to non-profit researcher?',\n",
       "       '6.6.1d: Would you donate your DNA/medical information to for-profit researcher?',\n",
       "       '6.6.2a: If someone linked your name, address and phone number to it, do you think you could be harmed in any way from this?',\n",
       "       '6.6.2b: If someone linked your name, address and phone number to it, do you think you could be harmed in any way from this? (Text)',\n",
       "       '6.6.3a: If someone linked your name, address and phone number to it, do you think you could be harmed in any way from this?',\n",
       "       '6.6.3b: If someone linked your name, address and phone number to it, do you think you could be harmed in any way from this? (Text)',\n",
       "       '6.6.4a: My friends potentially knowing something about me that I hadn't chosen to tell them',\n",
       "       '6.6.4b: My family potentially knowing something about me that I hadn't chosen to tell them',\n",
       "       '6.6.4c: My government potentially knowing something about me that I hadn't chosen to tell them',\n",
       "       '6.6.4d: Police potentially knowing something about me that I hadn't chosen to tell them',\n",
       "       '6.6.4e: Marketing companies targeting me to sell me products',\n",
       "       '6.6.4f: Being stigmatised and labelled in some way online',\n",
       "       '6.6.4g: Being cloned',\n",
       "       '6.6.4h: My DNA being copied and then planted at the scene of a crime',\n",
       "       '6.6.4i: Health or life insurance companies using the information to discriminate against me',\n",
       "       '6.6.4j: Employers using the information to discriminate against me',\n",
       "       '6.6.4k: Upsetting my genetic relatives (because my DNA information is similar to their DNA information)',\n",
       "       '6.6.4l: Ethnic identification and racial discrimination',\n",
       "       '6.6.4m: Please provide other concerns you may have',\n",
       "       '6.6.5a: From the previous list, which are the three that you are most worried about',\n",
       "       '6.6.6a: Would you be more comfortable donating your DNA and/or medical information if you knew there a law in place to protect against being exploited?',\n",
       "       '6.6.6b: Would you be more comfortable donating your DNA and/or medical information if you knew there a law in place to protect against being exploited? (Text)',\n",
       "       '7: Expectations of information', '7.7.1a: What would help you decide?',\n",
       "       '7.7.1b: What would help you decide? (Other)',\n",
       "       '7.7.2a: Which are your three most important options from the previous question?',\n",
       "       '7.7.3a: Would you want to be informed every time a new person accesses your information?',\n",
       "       '7.7.4a: Would you allow someone else, such as an ethics committee or custodian, to decide on your behalf which researchers and studies could use your DNA and/or medical information?',\n",
       "       '7.7.4b: Would you allow someone else, such as an ethics committee or custodian, to decide on your behalf which researchers and studies could use your DNA and/or medical information? (Text)',\n",
       "       '8: Trust',\n",
       "       '8.8.1a: What information would help you to trust the people asking you to donate DNA and/or medical information',\n",
       "       '8.8.1b: What information would help you to trust the people asking you to donate DNA and/or medical information (Text)',\n",
       "       '8.8.2a: Which are your three most important options from the previous question?',\n",
       "       '8.8.3a: My medical doctor', '8.8.3b: Any medical doctor in my country',\n",
       "       '8.8.3c: Any medical doctor worldwide',\n",
       "       '8.8.3d: Any researcher at a university in my country',\n",
       "       '8.8.3e: Any researcher at a university worldwide',\n",
       "       '8.8.3f: Any researcher at a company in my country',\n",
       "       '8.8.3g: Any researcher at a company worldwide',\n",
       "       '8.8.3h: The government of my country', '8.8.3i: Governments worldwide',\n",
       "       'D: Demographics', 'D.D.1a: Age', 'D.D.2a: Gender',\n",
       "       'D.D.3a: Do you have children', 'D.D.4a: Country',\n",
       "       'D.D.5a: Select the option that best describe your formal education',\n",
       "       'D.D.5b: Select the option that best describe your formal education (Other)',\n",
       "       'D.D.6a: Which ethnic group do you belong to?',\n",
       "       'D.D.6b: Which ethnic group do you belong to? (Other)',\n",
       "       'D.D.7a: Independently of whether you attend religious services or not, would you say you are ...',\n",
       "       'D.D.8a: Relationship status'],\n",
       "      dtype='object')"
      ]
     },
     "execution_count": 4,
     "metadata": {},
     "output_type": "execute_result"
    }
   ],
   "source": [
    "# Get the column names\n",
    "colnames = df.columns\n",
    "colnames"
   ]
  },
  {
   "cell_type": "code",
   "execution_count": 5,
   "id": "c61dc3a1",
   "metadata": {},
   "outputs": [],
   "source": [
    "# Remove some columns that aren`t importat for the analysis \n",
    "df.drop(columns = colnames[:13], inplace = True)"
   ]
  },
  {
   "cell_type": "code",
   "execution_count": 6,
   "id": "b6d307ab",
   "metadata": {},
   "outputs": [
    {
     "data": {
      "text/plain": [
       "Index(['1: Online footprint',\n",
       "       '1.1.1a: Have you ever had any personal information online (that you put there or someone else did)?',\n",
       "       '1.1.1b: Please click on all that apply',\n",
       "       '1.1.2a: Do you think these pieces of information should have the same levels of protection against unauthorised use?',\n",
       "       '1.1.2b: Holiday photos', '1.1.2c: Bank information',\n",
       "       '1.1.2d: Medical information', '1.1.2e: DNA information',\n",
       "       '1.1.3a: Have you had any negative experiences from your personal information being accessed online?',\n",
       "       '1.1.3b: Have you had any negative experiences from your personal information being accessed online? (Text)',\n",
       "       '1.1.4a: Are you familiar with DNA, genetics or genomics?',\n",
       "       '1.1.4b: I'm familiar through my work, personal interests or family/medical history (details)',\n",
       "       '1.1.4c: I'm familiar through my work, personal interests or family/medical history (details) (Other)',\n",
       "       '2: Data access by others',\n",
       "       '2.2.1a: Do you know who has online access to your medical information?',\n",
       "       '2.2.2a: Are you worried about who might have access to your medical information',\n",
       "       '2.2.3a: Do you know who has online access to your DNA information',\n",
       "       '2.2.4a: Are you worried about who might have access to your DNA information',\n",
       "       '2.2.5a: Is DNA information different to medical information What do you think?',\n",
       "       '2.2.5b: Is DNA information different to medical information What do you think? (Text)',\n",
       "       '2.2.6a: Would being offered a DNA readout influence your decision to donate',\n",
       "       '3: Access by medical doctors',\n",
       "       '3.3.1a: Would you donate your DNA and medical information for use by medical doctors?',\n",
       "       '3.3.1b: Would you donate your DNA and medical information for use by medical doctors? (Text)',\n",
       "       '4: Access by non-profit researchers',\n",
       "       '4.4.1a: Would you donate your DNA and medical information for use by non-profit researchers?',\n",
       "       '4.4.1b: Would you donate your DNA and medical information for use by non-profit researchers? (Text)',\n",
       "       '5: Access by for-profit researchers',\n",
       "       '5.5.1a: Would you donate your DNA and medical information for use by for-profit researchers?',\n",
       "       '5.5.1b: Would you donate your DNA and medical information for use by for-profit researchers? (Text)',\n",
       "       '6: Perceived harms',\n",
       "       '6.6.1a: Would you donate your DNA/medical information?',\n",
       "       '6.6.1b: Would you donate your DNA/medical information to doctor?',\n",
       "       '6.6.1c: Would you donate your DNA/medical information to non-profit researcher?',\n",
       "       '6.6.1d: Would you donate your DNA/medical information to for-profit researcher?',\n",
       "       '6.6.2a: If someone linked your name, address and phone number to it, do you think you could be harmed in any way from this?',\n",
       "       '6.6.2b: If someone linked your name, address and phone number to it, do you think you could be harmed in any way from this? (Text)',\n",
       "       '6.6.3a: If someone linked your name, address and phone number to it, do you think you could be harmed in any way from this?',\n",
       "       '6.6.3b: If someone linked your name, address and phone number to it, do you think you could be harmed in any way from this? (Text)',\n",
       "       '6.6.4a: My friends potentially knowing something about me that I hadn't chosen to tell them',\n",
       "       '6.6.4b: My family potentially knowing something about me that I hadn't chosen to tell them',\n",
       "       '6.6.4c: My government potentially knowing something about me that I hadn't chosen to tell them',\n",
       "       '6.6.4d: Police potentially knowing something about me that I hadn't chosen to tell them',\n",
       "       '6.6.4e: Marketing companies targeting me to sell me products',\n",
       "       '6.6.4f: Being stigmatised and labelled in some way online',\n",
       "       '6.6.4g: Being cloned',\n",
       "       '6.6.4h: My DNA being copied and then planted at the scene of a crime',\n",
       "       '6.6.4i: Health or life insurance companies using the information to discriminate against me',\n",
       "       '6.6.4j: Employers using the information to discriminate against me',\n",
       "       '6.6.4k: Upsetting my genetic relatives (because my DNA information is similar to their DNA information)',\n",
       "       '6.6.4l: Ethnic identification and racial discrimination',\n",
       "       '6.6.4m: Please provide other concerns you may have',\n",
       "       '6.6.5a: From the previous list, which are the three that you are most worried about',\n",
       "       '6.6.6a: Would you be more comfortable donating your DNA and/or medical information if you knew there a law in place to protect against being exploited?',\n",
       "       '6.6.6b: Would you be more comfortable donating your DNA and/or medical information if you knew there a law in place to protect against being exploited? (Text)',\n",
       "       '7: Expectations of information', '7.7.1a: What would help you decide?',\n",
       "       '7.7.1b: What would help you decide? (Other)',\n",
       "       '7.7.2a: Which are your three most important options from the previous question?',\n",
       "       '7.7.3a: Would you want to be informed every time a new person accesses your information?',\n",
       "       '7.7.4a: Would you allow someone else, such as an ethics committee or custodian, to decide on your behalf which researchers and studies could use your DNA and/or medical information?',\n",
       "       '7.7.4b: Would you allow someone else, such as an ethics committee or custodian, to decide on your behalf which researchers and studies could use your DNA and/or medical information? (Text)',\n",
       "       '8: Trust',\n",
       "       '8.8.1a: What information would help you to trust the people asking you to donate DNA and/or medical information',\n",
       "       '8.8.1b: What information would help you to trust the people asking you to donate DNA and/or medical information (Text)',\n",
       "       '8.8.2a: Which are your three most important options from the previous question?',\n",
       "       '8.8.3a: My medical doctor', '8.8.3b: Any medical doctor in my country',\n",
       "       '8.8.3c: Any medical doctor worldwide',\n",
       "       '8.8.3d: Any researcher at a university in my country',\n",
       "       '8.8.3e: Any researcher at a university worldwide',\n",
       "       '8.8.3f: Any researcher at a company in my country',\n",
       "       '8.8.3g: Any researcher at a company worldwide',\n",
       "       '8.8.3h: The government of my country', '8.8.3i: Governments worldwide',\n",
       "       'D: Demographics', 'D.D.1a: Age', 'D.D.2a: Gender',\n",
       "       'D.D.3a: Do you have children', 'D.D.4a: Country',\n",
       "       'D.D.5a: Select the option that best describe your formal education',\n",
       "       'D.D.5b: Select the option that best describe your formal education (Other)',\n",
       "       'D.D.6a: Which ethnic group do you belong to?',\n",
       "       'D.D.6b: Which ethnic group do you belong to? (Other)',\n",
       "       'D.D.7a: Independently of whether you attend religious services or not, would you say you are ...',\n",
       "       'D.D.8a: Relationship status'],\n",
       "      dtype='object')"
      ]
     },
     "execution_count": 6,
     "metadata": {},
     "output_type": "execute_result"
    }
   ],
   "source": [
    "# Get the column names list\n",
    "df.columns #The colnames aren`t in a suitable format for pandas"
   ]
  },
  {
   "cell_type": "code",
   "execution_count": 7,
   "id": "c12274be",
   "metadata": {},
   "outputs": [],
   "source": [
    "# Keep only the \"code\" as colname\n",
    "df.columns = df.columns.str.split(':').str[0]"
   ]
  },
  {
   "cell_type": "code",
   "execution_count": 8,
   "id": "8dc206d0",
   "metadata": {},
   "outputs": [
    {
     "data": {
      "text/plain": [
       "Index(['1', '1.1.1a', '1.1.1b', '1.1.2a', '1.1.2b', '1.1.2c', '1.1.2d',\n",
       "       '1.1.2e', '1.1.3a', '1.1.3b', '1.1.4a', '1.1.4b', '1.1.4c', '2',\n",
       "       '2.2.1a', '2.2.2a', '2.2.3a', '2.2.4a', '2.2.5a', '2.2.5b', '2.2.6a',\n",
       "       '3', '3.3.1a', '3.3.1b', '4', '4.4.1a', '4.4.1b', '5', '5.5.1a',\n",
       "       '5.5.1b', '6', '6.6.1a', '6.6.1b', '6.6.1c', '6.6.1d', '6.6.2a',\n",
       "       '6.6.2b', '6.6.3a', '6.6.3b', '6.6.4a', '6.6.4b', '6.6.4c', '6.6.4d',\n",
       "       '6.6.4e', '6.6.4f', '6.6.4g', '6.6.4h', '6.6.4i', '6.6.4j', '6.6.4k',\n",
       "       '6.6.4l', '6.6.4m', '6.6.5a', '6.6.6a', '6.6.6b', '7', '7.7.1a',\n",
       "       '7.7.1b', '7.7.2a', '7.7.3a', '7.7.4a', '7.7.4b', '8', '8.8.1a',\n",
       "       '8.8.1b', '8.8.2a', '8.8.3a', '8.8.3b', '8.8.3c', '8.8.3d', '8.8.3e',\n",
       "       '8.8.3f', '8.8.3g', '8.8.3h', '8.8.3i', 'D', 'D.D.1a', 'D.D.2a',\n",
       "       'D.D.3a', 'D.D.4a', 'D.D.5a', 'D.D.5b', 'D.D.6a', 'D.D.6b', 'D.D.7a',\n",
       "       'D.D.8a'],\n",
       "      dtype='object')"
      ]
     },
     "execution_count": 8,
     "metadata": {},
     "output_type": "execute_result"
    }
   ],
   "source": [
    "# New colnames\n",
    "df.columns"
   ]
  },
  {
   "cell_type": "code",
   "execution_count": 9,
   "id": "eaa02e68",
   "metadata": {},
   "outputs": [
    {
     "data": {
      "text/plain": [
       "(127, 86)"
      ]
     },
     "execution_count": 9,
     "metadata": {},
     "output_type": "execute_result"
    }
   ],
   "source": [
    "# Remove rows that don't belong to costa ricans\n",
    "df = df[df[\"D.D.4a\"] == \"Costa Rica\"]\n",
    "\n",
    "df.shape # We have 127 rows and 86 columns"
   ]
  },
  {
   "cell_type": "markdown",
   "id": "4624330e",
   "metadata": {},
   "source": [
    "## Categories and counts by column "
   ]
  },
  {
   "cell_type": "code",
   "execution_count": 10,
   "id": "04c7391d",
   "metadata": {},
   "outputs": [
    {
     "name": "stdout",
     "output_type": "stream",
     "text": [
      "** Section: D.D.1a **\n",
      "             Count  Percentage\n",
      "21-30           40   31.496063\n",
      "31-40           40   31.496063\n",
      "41-50           20   15.748031\n",
      "17-20           13   10.236220\n",
      "51-60           10    7.874016\n",
      "61-70            2    1.574803\n",
      "16 or under      1    0.787402\n",
      "71-80            1    0.787402\n",
      "\t\n",
      "-------------------\n",
      "-------------------\n",
      "\t\n",
      "** Section: D.D.2a **\n",
      "                   Count  Percentage\n",
      "Female                73   57.480315\n",
      "Male                  51   40.157480\n",
      "Prefer not to say      3    2.362205\n",
      "\t\n",
      "-------------------\n",
      "-------------------\n",
      "\t\n",
      "** Section: D.D.3a **\n",
      "                   Count  Percentage\n",
      "No                    84   66.141732\n",
      "Yes                   40   31.496063\n",
      "Prefer not to say      3    2.362205\n",
      "\t\n",
      "-------------------\n",
      "-------------------\n",
      "\t\n",
      "** Section: D.D.4a **\n",
      "            Count  Percentage\n",
      "Costa Rica    127       100.0\n",
      "\t\n",
      "-------------------\n",
      "-------------------\n",
      "\t\n",
      "** Section: D.D.5a **\n",
      "                                                    Count  Percentage\n",
      "Completed degree(s) at university/college/other...     65   51.181102\n",
      "Currently studying at university/college/other ...     30   23.622047\n",
      "Other                                                  15   11.811024\n",
      "Completed secondary school/high school                 14   11.023622\n",
      "Currently studying at secondary school/high school      2    1.574803\n",
      "Completed primary school/preparatory school/ele...      1    0.787402\n",
      "\t\n",
      "-------------------\n",
      "-------------------\n",
      "\t\n",
      "** Section: D.D.6a **\n",
      "                                        Count  Percentage\n",
      "White                                      96   75.590551\n",
      "*bi-racial*                                12    9.448819\n",
      "Prefer not to say                          11    8.661417\n",
      "East Asian Chinese, Japanese                3    2.362205\n",
      "Afro-european, African American, Black      3    2.362205\n",
      "Other:                                      2    1.574803\n",
      "\t\n",
      "-------------------\n",
      "-------------------\n",
      "\t\n",
      "** Section: D.D.7a **\n",
      "                        Count  Percentage\n",
      "Not a religious person     69   54.330709\n",
      "A religious person         58   45.669291\n",
      "\t\n",
      "-------------------\n",
      "-------------------\n",
      "\t\n",
      "** Section: D.D.8a **\n",
      "                                               Count  Percentage\n",
      "Single                                            62   48.818898\n",
      "Married / civil partnership / living together     54   42.519685\n",
      "Divorced                                          10    7.874016\n",
      "Separated                                          1    0.787402\n",
      "\t\n",
      "-------------------\n",
      "-------------------\n",
      "\t\n"
     ]
    }
   ],
   "source": [
    " \n",
    "# Select only demographic columns\n",
    "demographics_df  = df[[\"D.D.1a\", \"D.D.2a\", \"D.D.3a\", \"D.D.4a\", \"D.D.5a\", \"D.D.6a\", \"D.D.7a\", \"D.D.8a\"]] \n",
    "\n",
    "for column in demographics_df.columns:\n",
    "    print(f'** Section: {column} **')\n",
    "    \n",
    "    counts = pd.Series(df[column].value_counts(), name = 'Count') # counts\n",
    "    percentage = pd.Series(counts / counts.sum(), name = 'Percentage') * 100\n",
    "    \n",
    "    df_section = pd.concat([counts, percentage], axis=1) # counts and percentage \n",
    "    \n",
    "    print(df_section)\n",
    "    print('\\t')\n",
    "    print('-------------------')\n",
    "    print('-------------------')\n",
    "    print('\\t')\n",
    "    "
   ]
  },
  {
   "cell_type": "markdown",
   "id": "c85deedb",
   "metadata": {},
   "source": [
    "## Age plot"
   ]
  },
  {
   "cell_type": "code",
   "execution_count": 11,
   "id": "7917c51c",
   "metadata": {},
   "outputs": [],
   "source": [
    "# Age counts \n",
    "column_data = df.loc[:, 'D.D.1a'].value_counts()"
   ]
  },
  {
   "cell_type": "code",
   "execution_count": 12,
   "id": "c1fd3f58",
   "metadata": {},
   "outputs": [],
   "source": [
    "order_list = ['16 or under', '17-20', '21-30', '31-40', '41-50', '51-60', '61-70', '71-80']"
   ]
  },
  {
   "cell_type": "code",
   "execution_count": 13,
   "id": "d42bc4b1",
   "metadata": {},
   "outputs": [
    {
     "data": {
      "image/png": "[encoded data removed]",
      "text/plain": [
       "<Figure size 1000x600 with 1 Axes>"
      ]
     },
     "metadata": {},
     "output_type": "display_data"
    }
   ],
   "source": [
    "plt.figure(figsize=(10, 6))\n",
    "\n",
    "sns.barplot(x=column_data.index, y=column_data.values, \n",
    "            order = order_list, color = '#ffcc33', edgecolor='black',\n",
    "            linewidth=0.5)\n",
    "\n",
    "sns.despine() #remove right and top border\n",
    "\n",
    "plt.xlabel('Age')\n",
    "plt.ylabel('Count')\n",
    "\n",
    "plt.show()"
   ]
  },
  {
   "cell_type": "markdown",
   "id": "ecbf7c83",
   "metadata": {},
   "source": [
    "## Education plot"
   ]
  },
  {
   "cell_type": "code",
   "execution_count": 14,
   "id": "2bcd25f3",
   "metadata": {},
   "outputs": [
    {
     "data": {
      "image/png": "[encoded data removed]",
      "text/plain": [
       "<Figure size 600x600 with 1 Axes>"
      ]
     },
     "metadata": {},
     "output_type": "display_data"
    }
   ],
   "source": [
    "# Education counts\n",
    "education_perc = df['D.D.5a'].value_counts()\n",
    "education_perc = (education_perc / education_perc.sum())*100\n",
    "\n",
    "# Set the size of the plot\n",
    "plt.figure(figsize=(6, 6))\n",
    "\n",
    "sns.barplot(x = education_perc.index, y = education_perc.values, hue = education_perc.index,\n",
    "            width = 0.8, dodge=False, edgecolor='black',\n",
    "            linewidth=0.5)\n",
    "\n",
    "plt.gca().set_xticklabels([])\n",
    "sns.despine() #remove right and top border\n",
    "\n",
    "plt.legend(frameon = False, title='Education', bbox_to_anchor=(1, 1), loc='upper left', borderaxespad=0)\n",
    "\n",
    "\n",
    "\n",
    "plt.show()"
   ]
  },
  {
   "cell_type": "code",
   "execution_count": null,
   "id": "53e24814",
   "metadata": {},
   "outputs": [],
   "source": []
  }
 ],
 "metadata": {
  "kernelspec": {
   "display_name": "Python 3 (ipykernel)",
   "language": "python",
   "name": "python3"
  },
  "language_info": {
   "codemirror_mode": {
    "name": "ipython",
    "version": 3
   },
   "file_extension": ".py",
   "mimetype": "text/x-python",
   "name": "python",
   "nbconvert_exporter": "python",
   "pygments_lexer": "ipython3",
   "version": "3.10.9"
  }
 },
 "nbformat": 4,
 "nbformat_minor": 5
}
